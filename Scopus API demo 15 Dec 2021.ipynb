{
 "cells": [
  {
   "cell_type": "code",
   "execution_count": 59,
   "id": "bfadd69c",
   "metadata": {},
   "outputs": [
    {
     "name": "stdout",
     "output_type": "stream",
     "text": [
      "Collecting decorator==5.0.9\n",
      "  Using cached decorator-5.0.9-py3-none-any.whl (8.9 kB)\n",
      "Installing collected packages: decorator\n",
      "  Attempting uninstall: decorator\n",
      "    Found existing installation: decorator 5.0.6\n",
      "    Uninstalling decorator-5.0.6:\n",
      "      Successfully uninstalled decorator-5.0.6\n",
      "Successfully installed decorator-5.0.9\n"
     ]
    }
   ],
   "source": []
  },
  {
   "cell_type": "code",
   "execution_count": 1,
   "id": "fc04cc99",
   "metadata": {},
   "outputs": [
    {
     "name": "stdout",
     "output_type": "stream",
     "text": [
      "Package                            Version\n",
      "---------------------------------- -------------------\n",
      "alabaster                          0.7.12\n",
      "anaconda-client                    1.7.2\n",
      "anaconda-navigator                 2.1.1\n",
      "anaconda-project                   0.9.1\n",
      "anyio                              2.2.0\n",
      "appdirs                            1.4.4\n",
      "applaunchservices                  0.2.1\n",
      "appnope                            0.1.2\n",
      "appscript                          1.1.2\n",
      "argh                               0.26.2\n",
      "argon2-cffi                        20.1.0\n",
      "asn1crypto                         1.4.0\n",
      "astroid                            2.5\n",
      "astropy                            4.2.1\n",
      "async-generator                    1.10\n",
      "atomicwrites                       1.4.0\n",
      "attrs                              20.3.0\n",
      "autopep8                           1.5.6\n",
      "Babel                              2.9.0\n",
      "backcall                           0.2.0\n",
      "backports.functools-lru-cache      1.6.4\n",
      "backports.shutil-get-terminal-size 1.0.0\n",
      "backports.tempfile                 1.0\n",
      "backports.weakref                  1.0.post1\n",
      "beautifulsoup4                     4.9.3\n",
      "bitarray                           1.9.2\n",
      "bkcharts                           0.2\n",
      "black                              19.10b0\n",
      "bleach                             3.3.0\n",
      "bokeh                              2.3.2\n",
      "boto                               2.49.0\n",
      "Bottleneck                         1.3.2\n",
      "brotlipy                           0.7.0\n",
      "certifi                            2020.12.5\n",
      "cffi                               1.14.5\n",
      "chardet                            4.0.0\n",
      "click                              7.1.2\n",
      "cloudpickle                        1.6.0\n",
      "clyent                             1.2.2\n",
      "colorama                           0.4.4\n",
      "conda                              4.11.0\n",
      "conda-build                        3.21.4\n",
      "conda-content-trust                0+unknown\n",
      "conda-package-handling             1.7.3\n",
      "conda-repo-cli                     1.0.4\n",
      "conda-token                        0.3.0\n",
      "conda-verify                       3.4.2\n",
      "contextlib2                        0.6.0.post1\n",
      "cryptography                       3.4.7\n",
      "cycler                             0.10.0\n",
      "Cython                             0.29.23\n",
      "cytoolz                            0.11.0\n",
      "dask                               2021.4.0\n",
      "DateTime                           4.3\n",
      "decorator                          5.0.9\n",
      "defusedxml                         0.7.1\n",
      "diff-match-patch                   20200713\n",
      "distributed                        2021.4.0\n",
      "docutils                           0.17\n",
      "elsapy                             0.5.0\n",
      "entrypoints                        0.3\n",
      "et-xmlfile                         1.0.1\n",
      "fastcache                          1.1.0\n",
      "filelock                           3.0.12\n",
      "flake8                             3.9.0\n",
      "Flask                              1.1.2\n",
      "fsspec                             0.9.0\n",
      "future                             0.18.2\n",
      "gevent                             21.1.2\n",
      "glob2                              0.7\n",
      "gmpy2                              2.0.8\n",
      "greenlet                           1.0.0\n",
      "h5py                               2.10.0\n",
      "HeapDict                           1.0.1\n",
      "html5lib                           1.1\n",
      "idna                               2.10\n",
      "imageio                            2.9.0\n",
      "imagesize                          1.2.0\n",
      "importlib-metadata                 3.10.0\n",
      "iniconfig                          1.1.1\n",
      "intervaltree                       3.1.0\n",
      "ipykernel                          5.3.4\n",
      "ipython                            7.22.0\n",
      "ipython-genutils                   0.2.0\n",
      "ipywidgets                         7.6.3\n",
      "isort                              5.8.0\n",
      "itsdangerous                       1.1.0\n",
      "jdcal                              1.4.1\n",
      "jedi                               0.17.2\n",
      "Jinja2                             2.11.3\n",
      "joblib                             1.0.1\n",
      "json5                              0.9.5\n",
      "jsonpickle                         2.0.0\n",
      "jsonschema                         3.2.0\n",
      "jupyter                            1.0.0\n",
      "jupyter-client                     6.1.12\n",
      "jupyter-console                    6.4.0\n",
      "jupyter-core                       4.7.1\n",
      "jupyter-packaging                  0.7.12\n",
      "jupyter-server                     1.4.1\n",
      "jupyterlab                         3.0.14\n",
      "jupyterlab-pygments                0.1.2\n",
      "jupyterlab-server                  2.4.0\n",
      "jupyterlab-widgets                 1.0.0\n",
      "keyring                            22.3.0\n",
      "kiwisolver                         1.3.1\n",
      "lazy-object-proxy                  1.6.0\n",
      "libarchive-c                       2.9\n",
      "llvmlite                           0.36.0\n",
      "locket                             0.2.1\n",
      "lxml                               4.6.3\n",
      "MarkupSafe                         1.1.1\n",
      "matplotlib                         3.3.4\n",
      "mccabe                             0.6.1\n",
      "mistune                            0.8.4\n",
      "mkl-fft                            1.3.0\n",
      "mkl-random                         1.2.1\n",
      "mkl-service                        2.3.0\n",
      "mock                               4.0.3\n",
      "more-itertools                     8.7.0\n",
      "mpmath                             1.2.1\n",
      "msgpack                            1.0.2\n",
      "multipledispatch                   0.6.0\n",
      "mypy-extensions                    0.4.3\n",
      "navigator-updater                  0.2.1\n",
      "nbclassic                          0.2.6\n",
      "nbclient                           0.5.3\n",
      "nbconvert                          6.0.7\n",
      "nbformat                           5.1.3\n",
      "nest-asyncio                       1.5.1\n",
      "networks                           0.3.7\n",
      "networkx                           2.5\n",
      "nltk                               3.6.1\n",
      "nose                               1.3.7\n",
      "notebook                           6.3.0\n",
      "numba                              0.53.1\n",
      "numexpr                            2.7.3\n",
      "numpy                              1.20.1\n",
      "numpydoc                           1.1.0\n",
      "olefile                            0.46\n",
      "openpyxl                           3.0.7\n",
      "packaging                          20.9\n",
      "pandas                             1.2.4\n",
      "pandocfilters                      1.4.3\n",
      "parso                              0.7.0\n",
      "partd                              1.2.0\n",
      "path                               15.1.2\n",
      "pathlib2                           2.3.5\n",
      "pathspec                           0.7.0\n",
      "patsy                              0.5.1\n",
      "pbr                                5.8.0\n",
      "pep8                               1.7.1\n",
      "pexpect                            4.8.0\n",
      "pickleshare                        0.7.5\n",
      "Pillow                             8.2.0\n",
      "pip                                21.0.1\n",
      "pkginfo                            1.7.0\n",
      "pluggy                             0.13.1\n",
      "ply                                3.11\n",
      "prometheus-client                  0.10.1\n",
      "prompt-toolkit                     3.0.17\n",
      "psutil                             5.8.0\n",
      "ptyprocess                         0.7.0\n",
      "py                                 1.10.0\n",
      "pybliometrics                      3.1.0\n",
      "pycodestyle                        2.6.0\n",
      "pycosat                            0.6.3\n",
      "pycparser                          2.20\n",
      "pycurl                             7.43.0.6\n",
      "pydocstyle                         6.0.0\n",
      "pyerfa                             1.7.3\n",
      "pyflakes                           2.2.0\n",
      "Pygments                           2.8.1\n",
      "PyJWT                              2.1.0\n",
      "pylint                             2.7.4\n",
      "pyls-black                         0.4.6\n",
      "pyls-spyder                        0.3.2\n",
      "pyodbc                             4.0.0-unsupported\n",
      "pyOpenSSL                          20.0.1\n",
      "pyparsing                          2.4.7\n",
      "pyrsistent                         0.17.3\n",
      "PySocks                            1.7.1\n",
      "pytest                             6.2.3\n",
      "python-dateutil                    2.8.1\n",
      "python-jsonrpc-server              0.4.0\n",
      "python-language-server             0.36.2\n",
      "pytz                               2021.1\n",
      "PyWavelets                         1.1.1\n",
      "PyYAML                             5.4.1\n",
      "pyzmq                              20.0.0\n",
      "QDarkStyle                         2.8.1\n",
      "QtAwesome                          1.0.2\n",
      "qtconsole                          5.0.3\n",
      "QtPy                               1.9.0\n",
      "regex                              2021.4.4\n",
      "requests                           2.25.1\n",
      "rope                               0.18.0\n",
      "Rtree                              0.9.7\n",
      "ruamel-yaml-conda                  0.15.100\n",
      "scikit-image                       0.18.1\n",
      "scikit-learn                       0.24.1\n",
      "scipy                              1.6.2\n",
      "seaborn                            0.11.1\n",
      "Send2Trash                         1.5.0\n",
      "setuptools                         52.0.0.post20210125\n",
      "simplegeneric                      0.8.1\n",
      "simplejson                         3.17.6\n",
      "singledispatch                     0.0.0\n",
      "six                                1.15.0\n",
      "sniffio                            1.2.0\n",
      "snowballstemmer                    2.1.0\n",
      "sortedcollections                  2.1.0\n",
      "sortedcontainers                   2.3.0\n",
      "soupsieve                          2.2.1\n",
      "Sphinx                             4.0.1\n",
      "sphinxcontrib-applehelp            1.0.2\n",
      "sphinxcontrib-devhelp              1.0.2\n",
      "sphinxcontrib-htmlhelp             1.0.3\n",
      "sphinxcontrib-jsmath               1.0.1\n",
      "sphinxcontrib-qthelp               1.0.3\n",
      "sphinxcontrib-serializinghtml      1.1.4\n",
      "sphinxcontrib-websupport           1.2.4\n",
      "spyder                             4.2.5\n",
      "spyder-kernels                     1.10.2\n",
      "SQLAlchemy                         1.4.7\n",
      "statsmodels                        0.12.2\n",
      "sympy                              1.8\n",
      "tables                             3.6.1\n",
      "tblib                              1.7.0\n",
      "terminado                          0.9.4\n",
      "testpath                           0.4.4\n",
      "textdistance                       4.2.1\n",
      "threadpoolctl                      2.1.0\n",
      "three-merge                        0.1.1\n",
      "tifffile                           2020.10.1\n",
      "toml                               0.10.2\n",
      "toolz                              0.11.1\n",
      "tornado                            6.1\n",
      "tqdm                               4.59.0\n",
      "traitlets                          5.0.5\n",
      "typed-ast                          1.4.2\n",
      "typing-extensions                  3.7.4.3\n",
      "ujson                              4.0.2\n",
      "unicodecsv                         0.14.1\n",
      "urllib3                            1.26.4\n",
      "watchdog                           1.0.2\n",
      "wcwidth                            0.2.5\n",
      "webencodings                       0.5.1\n",
      "Werkzeug                           1.0.1\n",
      "wheel                              0.36.2\n",
      "widgetsnbextension                 3.5.1\n",
      "wrapt                              1.12.1\n",
      "wurlitzer                          2.1.0\n",
      "xlrd                               2.0.1\n",
      "XlsxWriter                         1.3.8\n",
      "xlwings                            0.23.0\n",
      "xlwt                               1.3.0\n",
      "xmltodict                          0.12.0\n",
      "yapf                               0.31.0\n",
      "zict                               2.0.0\n",
      "zipp                               3.4.1\n",
      "zope.event                         4.5.0\n",
      "zope.interface                     5.3.0\n",
      "Note: you may need to restart the kernel to use updated packages.\n"
     ]
    }
   ],
   "source": [
    "pip list"
   ]
  },
  {
   "cell_type": "code",
   "execution_count": 10,
   "id": "3c4c4f00",
   "metadata": {},
   "outputs": [],
   "source": [
    "from datetime import datetime"
   ]
  },
  {
   "cell_type": "code",
   "execution_count": 11,
   "id": "150e5224",
   "metadata": {},
   "outputs": [],
   "source": [
    "import pandas as pd"
   ]
  },
  {
   "cell_type": "code",
   "execution_count": 12,
   "id": "d46a28d8",
   "metadata": {},
   "outputs": [],
   "source": [
    "from pybliometrics.scopus import ScopusSearch\n",
    "import pybliometrics"
   ]
  },
  {
   "cell_type": "code",
   "execution_count": 19,
   "id": "c2e11c16",
   "metadata": {},
   "outputs": [
    {
     "name": "stdout",
     "output_type": "stream",
     "text": [
      "0:00:01\n"
     ]
    }
   ],
   "source": [
    "# Example 1: dowload papers by search query, count time and number of papers\n",
    "# Download\n",
    "start = datetime.now().replace(microsecond=0)\n",
    "ds1 = ScopusSearch(\"AF-ID (60024069 )  AND  SUBJMAIN ( 3107 )  AND  PUBYEAR  >  2016  AND  PUBYEAR  <  2021\")\n",
    "end = datetime.now().replace(microsecond=0)\n",
    "print(end-start)"
   ]
  },
  {
   "cell_type": "code",
   "execution_count": 20,
   "id": "3656d6d5-8eb4-4a72-b677-439ce280ed01",
   "metadata": {},
   "outputs": [
    {
     "name": "stdout",
     "output_type": "stream",
     "text": [
      "330\n"
     ]
    }
   ],
   "source": [
    "print(len(ds1.results))"
   ]
  },
  {
   "cell_type": "code",
   "execution_count": 10,
   "id": "d9ea951c",
   "metadata": {},
   "outputs": [],
   "source": [
    "from itertools import combinations\n",
    "\n",
    "import networkx as nx\n",
    "import matplotlib.pyplot as plt\n",
    "from pybliometrics.scopus import ScopusSearch"
   ]
  },
  {
   "cell_type": "code",
   "execution_count": null,
   "id": "4b65e632-dde1-4be4-b942-5f354feea51b",
   "metadata": {},
   "outputs": [],
   "source": [
    "# Example 2: co-authorship network"
   ]
  },
  {
   "cell_type": "code",
   "execution_count": 6,
   "id": "2eecadff",
   "metadata": {},
   "outputs": [
    {
     "name": "stdout",
     "output_type": "stream",
     "text": [
      "283\n"
     ]
    }
   ],
   "source": [
    "ds2 = ScopusSearch(\"AF-ID (60024069)  AND  SUBJMAIN (1706)  AND  PUBYEAR  >  2016  AND  PUBYEAR  <  2021\")\n",
    "print(len(ds2.results))"
   ]
  },
  {
   "cell_type": "markdown",
   "id": "60b8f67f-12ee-447e-bda7-84f79e3265e8",
   "metadata": {},
   "source": [
    "283 papers, area: *Computer Science Applications*"
   ]
  },
  {
   "cell_type": "code",
   "execution_count": 32,
   "id": "401a82c7",
   "metadata": {},
   "outputs": [
    {
     "data": {
      "text/plain": [
       "Document(eid='2-s2.0-85096977646', doi='10.1049/iet-cta.2019.1222', pii=None, pubmed_id=None, title='Determination of vertex polynomials to analyse robust stability of control systems with interval parameters', subtype='ar', subtypeDescription='Article', creator='Gayvoronskiy S.A.', afid='60024069', affilname='Tomsk Polytechnic University', affiliation_city='Tomsk', affiliation_country='Russian Federation', author_count='4', author_names='Gayvoronskiy, Sergey An;Ezangina, Tatiana;Pushkarev, Maxim;Khozhaev, Ivan', author_ids='57191188253;55960799000;54584243700;56960535600', author_afids='60024069;60024069;60024069;60024069', coverDate='2020-12-17', coverDisplayDate='17 December 2020', publicationName='IET Control Theory and Applications', issn='17518644', source_id='5100155079', eIssn='17518652', aggregationType='Journal', volume='14', issueIdentifier='18', article_number=None, pageRange='2825-2835', description='The study describes the application of the root locus theory for a system whose characteristic polynomial has interval coefficients. For the proposed system, an interval extension of the basic angular equation of the root locus is performed. Upon the conditions for defining the robust oscillatory stability degree through a complex pole of the system, the double interval angular inequations are obtained. These inequations specify the range of the exit angles going out of the poles for all edge branches of the root locus. On the basis of the exit angles of edge branches going out of the real pole, the condition for determining the robust aperiodic stability degree is obtained. Moreover, an algorithm for finding the validation vertices of the polyhedron of coefficients is developed and some sets of vertex polynomials for low-order systems are specified. The study also presents some numerical examples for analysing the robust stability degree in interval systems, which confirm our theoretical results. It is concluded that the determined validation vertices provide an optimal solution to the analysis of robust stability.', authkeywords=None, citedby_count=2, openaccess=1, fund_acr='Minobrnauka', fund_no='2.3649.2017/PCh', fund_sponsor='Ministry of Education and Science of the Russian Federation')"
      ]
     },
     "execution_count": 32,
     "metadata": {},
     "output_type": "execute_result"
    }
   ],
   "source": [
    "ds2.results[0]"
   ]
  },
  {
   "cell_type": "code",
   "execution_count": 35,
   "id": "829713a0-b1e3-49d0-bc79-a0d5d0854a99",
   "metadata": {},
   "outputs": [
    {
     "data": {
      "text/plain": [
       "Document(eid='2-s2.0-85013026905', doi='10.1108/HFF-02-2016-0061', pii=None, pubmed_id=None, title='Natural convection in a triangular cavity filled with a micropolar fluid', subtype='ar', subtypeDescription='Article', creator='Sheremet M.', afid='60024417;60024069;60016896', affilname='Universitatea Babeș-Bolyai;Tomsk Polytechnic University;Tomsk State University', affiliation_city='Cluj Napoca;Tomsk;Tomsk', affiliation_country='Romania;Russian Federation;Russian Federation', author_count='3', author_names='Sheremet, Mikhail;Grosan, Teodor;Pop, Ioan', author_ids='12766763900;57207894150;57208831226', author_afids='60016896-60024069;60024417;60024417', coverDate='2017-01-01', coverDisplayDate='2017', publicationName='International Journal of Numerical Methods for Heat and Fluid Flow', issn='09615539', source_id='16215', eIssn=None, aggregationType='Journal', volume='27', issueIdentifier='2', article_number=None, pageRange='504-515', description='Purpose - The purpose of this paper is to study steady natural convection flow and heat transfer in a triangular cavity filled with a micropolar fluid. Design/methodology/approach - It is assumed that the left inclined wall is heated, whereas the other walls are cooled and maintained at constant temperatures. All four walls of the cavity are assumed to be rigid and impermeable. The micropolar fluid is considered to satisfy the Boussinesq approximation. The governing equations and boundary conditions are solved using the finite difference method of the second order accuracy over a wide range of the Rayleigh number, Prandtl number, vortex viscosity parameter and two values of micro-gyration parameter, namely, strong concentration (n = 0) and week concentration (n = 0.5). Findings - The results are presented in the form of streamlines, isotherms, vorticity contours and variations of average Nusselt number and fluid flow rate depending on the Rayleigh number, Prandtl number, vortex viscosity parameter and micro-gyration parameter. The flow field and temperature distribution in the cavity are affected by these parameters. The heat transfer rate into the cavity is decreasing upon the raise of the vortex viscosity parameter. Originality/value - This work studies the effects of vortex viscosity parameter and micro-gyration parameter in a triangular cavity filled with a micropolar fluid on the fluid flow and heat transfer. This study might be useful to flows of biological fluids in thin vessels, polymeric suspensions, liquid crystals, slurries, colloidal suspensions, exotic lubricants; for the design of solar collectors, room ventilation systems and electronic cooling systems; and so on.', authkeywords='Micropolar fluid | Natural convection | Triangular cavity', citedby_count=22, openaccess=0, fund_acr='Minobrnauka', fund_no='13.1919.2014/K.', fund_sponsor='Ministry of Education and Science of the Russian Federation')"
      ]
     },
     "execution_count": 35,
     "metadata": {},
     "output_type": "execute_result"
    }
   ],
   "source": [
    "ds2.results[282]"
   ]
  },
  {
   "cell_type": "code",
   "execution_count": 4,
   "id": "5961a4f3-1206-4dc8-8b72-6cb7412877f6",
   "metadata": {},
   "outputs": [
    {
     "data": {
      "text/plain": [
       "pybliometrics.scopus.scopus_search.ScopusSearch"
      ]
     },
     "execution_count": 4,
     "metadata": {},
     "output_type": "execute_result"
    }
   ],
   "source": [
    "type(ds2)"
   ]
  },
  {
   "cell_type": "markdown",
   "id": "5daa949c-10b7-42d0-8a10-0bd3a0eec35e",
   "metadata": {},
   "source": [
    "List of authors"
   ]
  },
  {
   "cell_type": "code",
   "execution_count": 5,
   "id": "325173ea-3548-4e9d-8b87-cecd43c6ca69",
   "metadata": {},
   "outputs": [],
   "source": [
    "authors_ds2 = [i.author_ids.split(\";\") for i in ds2.results]"
   ]
  },
  {
   "cell_type": "markdown",
   "id": "3211cd96-286e-4bad-959e-8c1ef0dd50a9",
   "metadata": {},
   "source": [
    "List of edges"
   ]
  },
  {
   "cell_type": "code",
   "execution_count": 6,
   "id": "c9c4ced9",
   "metadata": {},
   "outputs": [],
   "source": [
    "combs = [list(combinations(i ,2)) for i in authors_ds2]\n",
    "edges = [i for j in combs for i in j]"
   ]
  },
  {
   "cell_type": "markdown",
   "id": "eb98ff98-28eb-4042-8a56-f484daa1b890",
   "metadata": {},
   "source": [
    "Network"
   ]
  },
  {
   "cell_type": "code",
   "execution_count": 7,
   "id": "2ec59a42-3bcd-43a4-a764-7d8267635be6",
   "metadata": {},
   "outputs": [
    {
     "name": "stdout",
     "output_type": "stream",
     "text": [
      "Name: \n",
      "Type: Graph\n",
      "Number of nodes: 918\n",
      "Number of edges: 3888\n",
      "Average degree:   8.4706\n"
     ]
    }
   ],
   "source": [
    "G = nx.Graph()\n",
    "G.add_edges_from(edges)\n",
    "print(nx.info(G))"
   ]
  },
  {
   "cell_type": "code",
   "execution_count": 8,
   "id": "3ce99567",
   "metadata": {},
   "outputs": [
    {
     "data": {
      "image/png": "[encoded data removed]",
      "text/plain": [
       "<Figure size 432x288 with 1 Axes>"
      ]
     },
     "metadata": {},
     "output_type": "display_data"
    }
   ],
   "source": [
    "nx.draw(G, node_size=2)"
   ]
  },
  {
   "cell_type": "code",
   "execution_count": 12,
   "id": "599f8eda-52e5-4d20-b174-43b784c582a9",
   "metadata": {},
   "outputs": [
    {
     "data": {
      "image/png": "[encoded data removed]",
      "text/plain": [
       "<Figure size 432x288 with 1 Axes>"
      ]
     },
     "metadata": {},
     "output_type": "display_data"
    }
   ],
   "source": [
    "nx.draw(G, node_size=2)\n",
    "plt.savefig(\"network1.pdf\", bbox_inches = \"tight\")"
   ]
  },
  {
   "cell_type": "markdown",
   "id": "536b2897-b7d7-4bdf-92fc-514ae48b6cce",
   "metadata": {},
   "source": []
  },
  {
   "cell_type": "code",
   "execution_count": 43,
   "id": "5c6dfc51-7020-409d-81de-ecb6977f90ae",
   "metadata": {},
   "outputs": [],
   "source": []
  },
  {
   "cell_type": "code",
   "execution_count": 44,
   "id": "852d2cc8-5350-4e09-853c-eb036835f38e",
   "metadata": {},
   "outputs": [
    {
     "name": "stdout",
     "output_type": "stream",
     "text": [
      "Jinsong Hu, Shihao Yan, Xiangyun Zhou, Feng Shu, Jun Li and Jiangzhou Wang: \"Covert communication achieved by a greedy relay in wireless networks\", IEEE Transactions on Wireless Communications, 17(7), pp. 4766-4779(2018). https://doi.org/10.1109/TWC.2018.2831217.\n",
      "69 citation(s) as of 2021-12-13\n",
      "  Affiliation(s):\n",
      "   Tomsk Polytechnic University\n",
      "   Macquarie University\n",
      "   University of Kent\n",
      "   Nanjing University of Science and Technology\n",
      "   The Australian National University\n",
      "   Southeast University\n",
      "   Fujian Agriculture and Forestry University\n"
     ]
    }
   ],
   "source": []
  },
  {
   "cell_type": "code",
   "execution_count": 2,
   "id": "990a5d62",
   "metadata": {},
   "outputs": [
    {
     "name": "stdout",
     "output_type": "stream",
     "text": [
      "fd36879b72bddfce8f82b50a8d3e9aa8\n"
     ]
    }
   ],
   "source": []
  },
  {
   "cell_type": "code",
   "execution_count": null,
   "id": "94fc9e07-3949-4337-827c-2afed7bbc2af",
   "metadata": {},
   "outputs": [],
   "source": []
  }
 ],
 "metadata": {
  "kernelspec": {
   "display_name": "Python 3",
   "language": "python",
   "name": "python3"
  },
  "language_info": {
   "codemirror_mode": {
    "name": "ipython",
    "version": 3
   },
   "file_extension": ".py",
   "mimetype": "text/x-python",
   "name": "python",
   "nbconvert_exporter": "python",
   "pygments_lexer": "ipython3",
   "version": "3.8.8"
  }
 },
 "nbformat": 4,
 "nbformat_minor": 5
}
